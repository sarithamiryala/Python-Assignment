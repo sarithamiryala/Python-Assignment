{
 "cells": [
  {
   "cell_type": "code",
   "execution_count": 3,
   "id": "6038b85b",
   "metadata": {},
   "outputs": [
    {
     "name": "stdout",
     "output_type": "stream",
     "text": [
      " Please Enter the First Value  N1 : 20\n",
      " Please Enter the Second Value N2 : 50\n",
      "Lcm of two numbera 100\n"
     ]
    }
   ],
   "source": [
    "#Program to find LCM of Two numbers\n",
    "n1 = int(input(\" Please Enter the First Value  N1 : \"))\n",
    "n2 = int(input(\" Please Enter the Second Value N2 : \"))\n",
    "\n",
    "a = n1\n",
    "b = n2\n",
    "if (a>b):\n",
    "    greater = a\n",
    "else:\n",
    "    greater =b\n",
    "    \n",
    "while(True):\n",
    "    if((greater%a == 0) and (greater%b==0)):\n",
    "        lcm = greater\n",
    "        print('Lcm of two numbera',lcm)\n",
    "        break\n",
    "    greater+=1\n"
   ]
  },
  {
   "cell_type": "code",
   "execution_count": 5,
   "id": "fe463821",
   "metadata": {},
   "outputs": [
    {
     "name": "stdout",
     "output_type": "stream",
     "text": [
      "Enter n1= 25\n",
      "Enter n2=50\n",
      "hcf of two numbers is 25\n"
     ]
    }
   ],
   "source": [
    "#program to find HCF of two number\n",
    "\n",
    "a = int(input('Enter n1= '))\n",
    "b = int(input('Enter n2='))\n",
    "\n",
    "if (a<b):\n",
    "    smaller = a\n",
    "else:\n",
    "    smaller =b\n",
    "    \n",
    "for i in range(2,smaller+1):\n",
    "    if((a%i==0) and (b%i==0)):\n",
    "        hcf =i\n",
    "print('hcf of two numbers is',hcf)"
   ]
  },
  {
   "cell_type": "code",
   "execution_count": 12,
   "id": "17519fa2",
   "metadata": {},
   "outputs": [
    {
     "name": "stdout",
     "output_type": "stream",
     "text": [
      "Enter vthe Decimal number\n",
      "32\n",
      "\n",
      " Equivalent binary equivalent : \n",
      "100000\n"
     ]
    }
   ],
   "source": [
    "#program to convert Decimal number to Binary Number\n",
    "print('Enter the Decimal number')\n",
    "dec = int(input())\n",
    "i=0\n",
    "binary = []\n",
    "while(dec!=0):\n",
    "    rem = dec%2\n",
    "    binary.insert(i,rem)\n",
    "    i=i+1\n",
    "    dec= int(dec/2)\n",
    "i =i-1\n",
    "print('\\n Equivalent binary equivalent : ')\n",
    "while(i>=0):\n",
    "    print(end=str(binary[i]))\n",
    "    i=i-1\n",
    "print()\n"
   ]
  },
  {
   "cell_type": "code",
   "execution_count": 20,
   "id": "0f3973b3",
   "metadata": {},
   "outputs": [
    {
     "name": "stdout",
     "output_type": "stream",
     "text": [
      "Enter the decimal number\n",
      "32\n",
      "\n",
      " Equivalent octal equivalent : \n",
      "40\n"
     ]
    }
   ],
   "source": [
    "#program to convert Decimal number to octal Number\n",
    "print('Enter the decimal number')\n",
    "dec = int(input())\n",
    "i=0\n",
    "oct = []\n",
    "while(dec!=0):\n",
    "    rem = dec%8\n",
    "    oct.insert(i,rem)\n",
    "    i=i+1\n",
    "    dec= int(dec/8)\n",
    "i =i-1\n",
    "\n",
    "print('\\n Equivalent octal equivalent : ')\n",
    "while(i>=0):\n",
    "    print(end=str(oct[i]))\n",
    "    i=i-1\n",
    "print()\n"
   ]
  },
  {
   "cell_type": "code",
   "execution_count": 28,
   "id": "8f7845c3",
   "metadata": {},
   "outputs": [
    {
     "name": "stdout",
     "output_type": "stream",
     "text": [
      "Enter the decimal number\n",
      "31\n",
      "1F\n"
     ]
    }
   ],
   "source": [
    "#program to convert Decimal number to hexadecimal Number\n",
    "conversion_table = ['0','1','2','3','4','5','6','7','8','9','A','B','C','D','E','F']\n",
    "print('Enter the decimal number')\n",
    "dec = int(input())\n",
    "hexa = ''\n",
    "while(dec!=0):\n",
    "    rem = dec%16\n",
    "    hexa = conversion_table[rem]+hexa               \n",
    "    dec= int(dec/16)\n",
    "\n",
    "print(hexa)\n",
    "                    \n"
   ]
  },
  {
   "cell_type": "code",
   "execution_count": 1,
   "id": "145d6bf3",
   "metadata": {},
   "outputs": [
    {
     "name": "stdout",
     "output_type": "stream",
     "text": [
      "Please enter any Character  :  2\n",
      "The ASCII Value of 2 = 50\n"
     ]
    }
   ],
   "source": [
    "# Python Program To Find ASCII value of a character\n",
    "ch = input(\"Please enter any Character  :  \")\n",
    "\n",
    "print(\"The ASCII Value of %c = %d\" %(ch, ord(ch)))\n"
   ]
  },
  {
   "cell_type": "code",
   "execution_count": 9,
   "id": "00bb5430",
   "metadata": {},
   "outputs": [
    {
     "name": "stdout",
     "output_type": "stream",
     "text": [
      "1.Addition\n",
      "2.Subtraction\n",
      "3.Multiplication\n",
      "4.Division\n",
      "Enter your choice(1/2/3/4/5):\n",
      "2\n",
      "Enter the 1st Number2\n",
      "Enter the 2nd Number5\n",
      "2 - 5 = -3\n"
     ]
    }
   ],
   "source": [
    "#Python Program to Make a Simple Calculator with 4 basic mathematical operations\n",
    "\n",
    "print(\"1.Addition\")\n",
    "print('2.Subtraction')\n",
    "print('3.Multiplication')\n",
    "print('4.Division')\n",
    "\n",
    "print('Enter your choice(1/2/3/4/5):')\n",
    "choice=input()\n",
    "\n",
    "n1 =int(input('Enter the 1st Number'))\n",
    "n2 = int(input('Enter the 2nd Number'))\n",
    "if choice=='1':\n",
    "    print(n1,'+',n2,'=', n1+n2)\n",
    "elif choice=='2':\n",
    "    print(n1,'-',n2,'=',n1-n2)\n",
    "elif choice=='3':\n",
    "    print(n1,'*',n2,'=',n1*n2)\n",
    "elif choice=='4':\n",
    "    print(n1,'/',n2,'=',n1/n2)\n",
    "else:\n",
    "    print('Invalid choice')\n"
   ]
  },
  {
   "cell_type": "code",
   "execution_count": null,
   "id": "42c97c7f",
   "metadata": {},
   "outputs": [],
   "source": []
  },
  {
   "cell_type": "code",
   "execution_count": null,
   "id": "7a745d0f",
   "metadata": {},
   "outputs": [],
   "source": []
  }
 ],
 "metadata": {
  "kernelspec": {
   "display_name": "Python 3 (ipykernel)",
   "language": "python",
   "name": "python3"
  },
  "language_info": {
   "codemirror_mode": {
    "name": "ipython",
    "version": 3
   },
   "file_extension": ".py",
   "mimetype": "text/x-python",
   "name": "python",
   "nbconvert_exporter": "python",
   "pygments_lexer": "ipython3",
   "version": "3.9.7"
  }
 },
 "nbformat": 4,
 "nbformat_minor": 5
}
