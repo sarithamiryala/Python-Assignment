{
 "cells": [
  {
   "cell_type": "code",
   "execution_count": 9,
   "id": "6f568d78",
   "metadata": {},
   "outputs": [
    {
     "name": "stdout",
     "output_type": "stream",
     "text": [
      "Enter the number of 6\n",
      "Fabonacci sequence\n",
      "1\n",
      "1\n",
      "2\n",
      "3\n",
      "5\n",
      "8\n"
     ]
    }
   ],
   "source": [
    "# Program to Fibonacci sequence\n",
    "def fabo(n):\n",
    "    if n<= 1:\n",
    "        return(1)\n",
    "    else:\n",
    "        return(fabo(n-1)+fabo(n-2))\n",
    "nterm = int(input('Enter the number of '))\n",
    "if nterm < 0:\n",
    "    print(\"Enter  a positive number\")\n",
    "else:\n",
    "    print('Fabonacci sequence')\n",
    "    for i in range(nterm):\n",
    "        print(fabo(i))"
   ]
  },
  {
   "cell_type": "code",
   "execution_count": 8,
   "id": "16e40b4d",
   "metadata": {},
   "outputs": [
    {
     "name": "stdout",
     "output_type": "stream",
     "text": [
      "Enter the number6\n",
      "Factorial of a number is :  720\n"
     ]
    }
   ],
   "source": [
    "# Factorial of number by using recursion\n",
    "\n",
    "def fact(n):\n",
    "    if (n == 1 or n==0):\n",
    "        return(1)\n",
    "    else:\n",
    "        return(n*fact(n-1))\n",
    "num = int(input('Enter the number'))\n",
    "print('Factorial of a number is : ', fact(num))"
   ]
  },
  {
   "cell_type": "code",
   "execution_count": 20,
   "id": "9f2c96f2",
   "metadata": {},
   "outputs": [
    {
     "name": "stdout",
     "output_type": "stream",
     "text": [
      "Enter your Weight kg 50\n",
      "Enter your Height in cmt153\n",
      "Body mass index\n",
      "your are underweight\n"
     ]
    }
   ],
   "source": [
    "# Calculate Body Mass Index\n",
    "weight = float(input('Enter your Weight kg '))\n",
    "height = float(input('Enter your Height in cmt'))\n",
    "BMI = (weight)/((height*height)/100)\n",
    "print('Body mass index')\n",
    "\n",
    "if (BMI < 18.4):\n",
    "    print('your are underweight')\n",
    "elif (BMI >= 18.4 and BMI< 24.9):\n",
    "    print('your are healthy')\n",
    "elif (BMI >= 24.9 and BMI < 29.9):\n",
    "    print('your are over weight')\n",
    "elif (BMI >= 29.9 and BMI < 34.9):\n",
    "    print('your are severly over weight')\n",
    "elif BMI >34.9:\n",
    "    print('your are obess')"
   ]
  },
  {
   "cell_type": "code",
   "execution_count": 4,
   "id": "e930bf7b",
   "metadata": {},
   "outputs": [
    {
     "name": "stdout",
     "output_type": "stream",
     "text": [
      "1.0\n",
      "0.0\n",
      "2.302585092994046\n",
      "2.0\n"
     ]
    }
   ],
   "source": [
    "#natural logarithm of any number\n",
    "import math\n",
    "print(math.log(math.e))\n",
    "print(math.log(1))\n",
    "print(math.log(10))\n",
    "print(math.log(math.e**2))"
   ]
  },
  {
   "cell_type": "code",
   "execution_count": 6,
   "id": "56ef9fec",
   "metadata": {},
   "outputs": [
    {
     "name": "stdout",
     "output_type": "stream",
     "text": [
      "Enter the value of n = 5\n",
      "225\n"
     ]
    }
   ],
   "source": [
    "# cube sum of first n natural numbers\n",
    "n = int(input('Enter the value of n = '))\n",
    "sum =0\n",
    "for i in range(1,n+1):\n",
    "    sum = sum+ i**3\n",
    "print(sum)"
   ]
  },
  {
   "cell_type": "code",
   "execution_count": null,
   "id": "9d55b27c",
   "metadata": {},
   "outputs": [],
   "source": []
  }
 ],
 "metadata": {
  "kernelspec": {
   "display_name": "Python 3 (ipykernel)",
   "language": "python",
   "name": "python3"
  },
  "language_info": {
   "codemirror_mode": {
    "name": "ipython",
    "version": 3
   },
   "file_extension": ".py",
   "mimetype": "text/x-python",
   "name": "python",
   "nbconvert_exporter": "python",
   "pygments_lexer": "ipython3",
   "version": "3.9.7"
  }
 },
 "nbformat": 4,
 "nbformat_minor": 5
}
