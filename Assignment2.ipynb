{
 "cells": [
  {
   "cell_type": "code",
   "execution_count": 1,
   "id": "dad2bb14",
   "metadata": {},
   "outputs": [
    {
     "name": "stdout",
     "output_type": "stream",
     "text": [
      "enter the distance in kmt =10\n"
     ]
    }
   ],
   "source": [
    "# Kilometer to Mile conversion\n",
    "# 1km = 0.62131 miles\n",
    "a = int(input('enter the distance in kmt ='))\n",
    "\n",
    "        "
   ]
  },
  {
   "cell_type": "code",
   "execution_count": 2,
   "id": "e0a958be",
   "metadata": {},
   "outputs": [
    {
     "name": "stdout",
     "output_type": "stream",
     "text": [
      "distance in miles is = 6.212999999999999\n"
     ]
    }
   ],
   "source": [
    "\n",
    "b = 0.6213*a\n",
    "print('distance in miles is =',b)"
   ]
  },
  {
   "cell_type": "code",
   "execution_count": 3,
   "id": "90c76e0b",
   "metadata": {},
   "outputs": [
    {
     "name": "stdout",
     "output_type": "stream",
     "text": [
      "enter the teperature in celsius =10\n"
     ]
    }
   ],
   "source": [
    "#Celsius to Farenheit\n",
    "# 1Celsius = 33.8 Farenheit\n",
    "c = int(input('enter the teperature in celsius ='))"
   ]
  },
  {
   "cell_type": "code",
   "execution_count": 5,
   "id": "f25b9305",
   "metadata": {},
   "outputs": [
    {
     "name": "stdout",
     "output_type": "stream",
     "text": [
      "Temperature in Farenheit is = 338.0\n"
     ]
    }
   ],
   "source": [
    "d = 33.8*c\n",
    "print('Temperature in Farenheit is =', d)"
   ]
  },
  {
   "cell_type": "code",
   "execution_count": 7,
   "id": "a54a4792",
   "metadata": {},
   "outputs": [],
   "source": [
    "# Program to display Calender\n",
    "import calendar"
   ]
  },
  {
   "cell_type": "code",
   "execution_count": 11,
   "id": "09af54d8",
   "metadata": {},
   "outputs": [
    {
     "name": "stdout",
     "output_type": "stream",
     "text": [
      "enter the year :1983\n",
      "enter the month:01\n",
      "    January 1983\n",
      "Mo Tu We Th Fr Sa Su\n",
      "                1  2\n",
      " 3  4  5  6  7  8  9\n",
      "10 11 12 13 14 15 16\n",
      "17 18 19 20 21 22 23\n",
      "24 25 26 27 28 29 30\n",
      "31\n",
      "\n"
     ]
    }
   ],
   "source": [
    "year = int(input('enter the year :'))\n",
    "month = int(input('enter the month:'))\n",
    "print(calendar.month(year,month))"
   ]
  },
  {
   "cell_type": "code",
   "execution_count": 28,
   "id": "2eae8566",
   "metadata": {},
   "outputs": [
    {
     "name": "stdout",
     "output_type": "stream",
     "text": [
      "Enter the value of a=1\n",
      "Enter the value of b=4\n",
      "Enter the value of c=2\n",
      " Roots of quadratic equation are:\n",
      "(-0.5857864376269049+0j)\n",
      "(-3.414213562373095+0j)\n"
     ]
    }
   ],
   "source": [
    "# Solving quadratic equation\n",
    "# ax^2+b^x+c =0\n",
    "import cmath\n",
    "a = int(input('Enter the value of a='))\n",
    "b = int(input('Enter the value of b='))\n",
    "c = int(input('Enter the value of c='))\n",
    "d = b**2 - 4*a*c\n",
    "sqr_val = cmath.sqrt(abs(d))\n",
    "print(' Roots of quadratic equation are:')\n",
    "print((-b+ sqr_val)/(2*a))\n",
    "print((-b- sqr_val)/(2*a))\n",
    "\n"
   ]
  },
  {
   "cell_type": "code",
   "execution_count": 17,
   "id": "2ff93d20",
   "metadata": {},
   "outputs": [
    {
     "name": "stdout",
     "output_type": "stream",
     "text": [
      "Enter the value of a =255\n",
      "Enter the value of b=100\n"
     ]
    }
   ],
   "source": [
    "# Swaping two varibles without temp variable\n",
    "a = int(input('Enter the value of a ='))\n",
    "b= int(input('Enter the value of b='))"
   ]
  },
  {
   "cell_type": "code",
   "execution_count": 18,
   "id": "c27e0b53",
   "metadata": {},
   "outputs": [],
   "source": [
    "a = a*b\n",
    "b = a/b\n",
    "a = a/b"
   ]
  },
  {
   "cell_type": "code",
   "execution_count": 19,
   "id": "0b5f25cc",
   "metadata": {},
   "outputs": [
    {
     "name": "stdout",
     "output_type": "stream",
     "text": [
      "100.0 255.0\n"
     ]
    }
   ],
   "source": [
    "print(a,b)"
   ]
  },
  {
   "cell_type": "code",
   "execution_count": null,
   "id": "dad1d2b7",
   "metadata": {},
   "outputs": [],
   "source": []
  }
 ],
 "metadata": {
  "kernelspec": {
   "display_name": "Python 3 (ipykernel)",
   "language": "python",
   "name": "python3"
  },
  "language_info": {
   "codemirror_mode": {
    "name": "ipython",
    "version": 3
   },
   "file_extension": ".py",
   "mimetype": "text/x-python",
   "name": "python",
   "nbconvert_exporter": "python",
   "pygments_lexer": "ipython3",
   "version": "3.9.7"
  }
 },
 "nbformat": 4,
 "nbformat_minor": 5
}
