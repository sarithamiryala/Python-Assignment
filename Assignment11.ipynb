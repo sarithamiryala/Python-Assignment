{
 "cells": [
  {
   "cell_type": "code",
   "execution_count": null,
   "id": "d870b522",
   "metadata": {},
   "outputs": [],
   "source": [
    "#Q1. Write a Python program to find words which are greater than given length k?\n"
   ]
  },
  {
   "cell_type": "code",
   "execution_count": 4,
   "id": "8a9b213a",
   "metadata": {},
   "outputs": [
    {
     "name": "stdout",
     "output_type": "stream",
     "text": [
      "Enter the input stringhe is from india and he belongs to a good family\n",
      "enter the length of string3\n",
      "['from', 'india', 'belongs', 'good', 'family']\n"
     ]
    }
   ],
   "source": [
    "string = input('Enter the input string')\n",
    "k = int(input('enter the length of string'))\n",
    "greater_string = []\n",
    "words = string.split(\" \")\n",
    "for word in words:\n",
    "    if len(word)>k:\n",
    "        greater_string.append(word)\n",
    "print(greater_string)"
   ]
  },
  {
   "cell_type": "code",
   "execution_count": null,
   "id": "9868fc11",
   "metadata": {},
   "outputs": [],
   "source": [
    "#Q2. Write a Python program for removing i-th character from a string?\n"
   ]
  },
  {
   "cell_type": "code",
   "execution_count": 5,
   "id": "7148dbef",
   "metadata": {},
   "outputs": [
    {
     "name": "stdout",
     "output_type": "stream",
     "text": [
      " pyhonprogramming\n"
     ]
    }
   ],
   "source": [
    "string1 = \"pythonprogramming\"\n",
    "new_string = \" \"\n",
    "for i in range(len(string1)):\n",
    "    if i!=2:\n",
    "        new_string = new_string+string1[i]\n",
    "print(new_string)"
   ]
  },
  {
   "cell_type": "code",
   "execution_count": null,
   "id": "9728e438",
   "metadata": {},
   "outputs": [],
   "source": [
    "#Q3. Write a Python program to split and join a string?\n"
   ]
  },
  {
   "cell_type": "code",
   "execution_count": 6,
   "id": "3f3718c2",
   "metadata": {},
   "outputs": [
    {
     "name": "stdout",
     "output_type": "stream",
     "text": [
      "Enter any stringi am practicing python programme assignments\n"
     ]
    },
    {
     "data": {
      "text/plain": [
       "['i', 'am', 'practicing', 'python', 'programme', 'assignments']"
      ]
     },
     "execution_count": 6,
     "metadata": {},
     "output_type": "execute_result"
    }
   ],
   "source": [
    "str1 = input('Enter any string')\n",
    "str1.split()\n"
   ]
  },
  {
   "cell_type": "code",
   "execution_count": 15,
   "id": "12e2a813",
   "metadata": {},
   "outputs": [
    {
     "name": "stdout",
     "output_type": "stream",
     "text": [
      "Enter 1st string :: aaa\n",
      "Enter 2nd string :: bbb\n",
      "after joining two strings :  baaabaaab\n"
     ]
    }
   ],
   "source": [
    "str1 = input('Enter 1st string :: ')\n",
    "str2 = input('Enter 2nd string :: ')\n",
    "str3 = str1.join(str2)\n",
    "print('after joining two strings : ',str3)"
   ]
  },
  {
   "cell_type": "code",
   "execution_count": null,
   "id": "ab4cc641",
   "metadata": {},
   "outputs": [],
   "source": [
    "#Q4. Write a Python to check if a given string is binary string or not?\n"
   ]
  },
  {
   "cell_type": "code",
   "execution_count": 9,
   "id": "2a2ce791",
   "metadata": {},
   "outputs": [],
   "source": [
    "def is_binary(str1):\n",
    "    binary = '01'\n",
    "    flag = 0\n",
    "    for i in str1:\n",
    "        if i not in binary:\n",
    "            flag =1\n",
    "            break\n",
    "        else:\n",
    "            pass\n",
    "    if flag ==1:\n",
    "        return('The given string is not binary')\n",
    "    else:\n",
    "        return('The given string is binary')"
   ]
  },
  {
   "cell_type": "code",
   "execution_count": 11,
   "id": "c9202505",
   "metadata": {},
   "outputs": [
    {
     "data": {
      "text/plain": [
       "'The given string is binary'"
      ]
     },
     "execution_count": 11,
     "metadata": {},
     "output_type": "execute_result"
    }
   ],
   "source": [
    "s1 = is_binary('101010')\n",
    "s1"
   ]
  },
  {
   "cell_type": "code",
   "execution_count": 13,
   "id": "0f71c144",
   "metadata": {},
   "outputs": [
    {
     "data": {
      "text/plain": [
       "'The given string is not binary'"
      ]
     },
     "execution_count": 13,
     "metadata": {},
     "output_type": "execute_result"
    }
   ],
   "source": [
    "s2 = is_binary('a10198')\n",
    "s2"
   ]
  },
  {
   "cell_type": "code",
   "execution_count": null,
   "id": "b6f0a94e",
   "metadata": {},
   "outputs": [],
   "source": [
    "#Q5. Write a Python program to find uncommon words from two Strings?\n"
   ]
  },
  {
   "cell_type": "code",
   "execution_count": 14,
   "id": "9ddfe79c",
   "metadata": {},
   "outputs": [
    {
     "name": "stdout",
     "output_type": "stream",
     "text": [
      "Enter the 1st string  : i am learning python programmin\n",
      "Enter the 2nd string : i am learning machine learning\n"
     ]
    }
   ],
   "source": [
    "str1 = input(\"Enter the 1st string  : \")\n",
    "str2 = input(\"Enter the 2nd string : \")\n",
    "str1list = str1.split()\n",
    "str2list = str2.split()\n",
    "uncommon_words = \" \"\n",
    "for word in str1list:\n",
    "    if word not in str2list:\n",
    "        uncommon_words = uncommon_words+ \" \"+ word\n",
    "for word in str2list:\n",
    "    if word not in str1list:\n",
    "        uncommon_words = uncommon_words+ \" \"+word\n"
   ]
  },
  {
   "cell_type": "code",
   "execution_count": 15,
   "id": "c9d777a6",
   "metadata": {},
   "outputs": [
    {
     "name": "stdout",
     "output_type": "stream",
     "text": [
      "  python programmin machine\n"
     ]
    }
   ],
   "source": [
    "print(uncommon_words)"
   ]
  },
  {
   "cell_type": "code",
   "execution_count": null,
   "id": "f6cc1029",
   "metadata": {},
   "outputs": [],
   "source": [
    "#Q6. Write a Python to find all duplicate characters in string?\n"
   ]
  },
  {
   "cell_type": "code",
   "execution_count": 23,
   "id": "394763f5",
   "metadata": {},
   "outputs": [
    {
     "name": "stdout",
     "output_type": "stream",
     "text": [
      "Enter the 1st string  : first class lever the fulcurm is between the load and the effort\n",
      "Enter the 2nd string : second class lever the load is between the load ad effort\n"
     ]
    }
   ],
   "source": [
    "str1 = input(\"Enter the 1st string  : \")\n",
    "str2 = input(\"Enter the 2nd string : \")\n",
    "str1list = str1.split()\n",
    "str2list = str2.split()\n",
    "common_words = \" \"\n",
    "for word in str1list:\n",
    "    if word  in str2list:\n",
    "        common_words = common_words+ \" \"+ word\n",
    "\n"
   ]
  },
  {
   "cell_type": "code",
   "execution_count": 24,
   "id": "42942985",
   "metadata": {},
   "outputs": [
    {
     "name": "stdout",
     "output_type": "stream",
     "text": [
      "  class lever the is between the load the effort\n"
     ]
    }
   ],
   "source": [
    "print(common_words)"
   ]
  },
  {
   "cell_type": "code",
   "execution_count": null,
   "id": "21a43012",
   "metadata": {},
   "outputs": [],
   "source": [
    "#Q7. Write a Python Program to check if a string contains any special character?"
   ]
  },
  {
   "cell_type": "code",
   "execution_count": 32,
   "id": "40a875b9",
   "metadata": {},
   "outputs": [
    {
     "name": "stdout",
     "output_type": "stream",
     "text": [
      "Special character is present in given string\n"
     ]
    }
   ],
   "source": [
    "string2 = 'hbgdxbxnjhyhb!'\n",
    "special_char = \"['!@#$%^&*(){+-_=;:<>/~?.,'}\"\n",
    "flag = 0\n",
    "for char in string2:\n",
    "    if char not in special_char:\n",
    "        flag = 1\n",
    "    else:\n",
    "        flag = 0\n",
    "if flag == 0:\n",
    "    print('Special character is present in given string')\n",
    "else:\n",
    "    print('no special character is present in the given string')"
   ]
  },
  {
   "cell_type": "code",
   "execution_count": null,
   "id": "a6d7604e",
   "metadata": {},
   "outputs": [],
   "source": []
  }
 ],
 "metadata": {
  "kernelspec": {
   "display_name": "Python 3 (ipykernel)",
   "language": "python",
   "name": "python3"
  },
  "language_info": {
   "codemirror_mode": {
    "name": "ipython",
    "version": 3
   },
   "file_extension": ".py",
   "mimetype": "text/x-python",
   "name": "python",
   "nbconvert_exporter": "python",
   "pygments_lexer": "ipython3",
   "version": "3.9.7"
  }
 },
 "nbformat": 4,
 "nbformat_minor": 5
}
