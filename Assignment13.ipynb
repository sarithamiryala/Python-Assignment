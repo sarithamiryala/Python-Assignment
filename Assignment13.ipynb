{
 "cells": [
  {
   "cell_type": "markdown",
   "id": "855c7444",
   "metadata": {},
   "source": [
    "Question1:\n",
    "Write a program that calculates and prints the value according to the given formula:\n",
    "Q = Square root of [(2 * C * D)/H]\n",
    "Following are the fixed values of C and H:\n",
    "C is 50. H is 30.\n",
    "D is the variable whose values should be input to your program in a comma-separated\n",
    "sequence.\n",
    "Example\n",
    "Let us assume the following comma separated input sequence is given to the program:\n",
    "100,150,180\n",
    "The output of the program should be:\n",
    "18,22,24\n",
    "\n"
   ]
  },
  {
   "cell_type": "code",
   "execution_count": 4,
   "id": "aabc00fd",
   "metadata": {},
   "outputs": [],
   "source": [
    "import math"
   ]
  },
  {
   "cell_type": "code",
   "execution_count": 21,
   "id": "149b77c6",
   "metadata": {},
   "outputs": [
    {
     "name": "stdout",
     "output_type": "stream",
     "text": [
      "Enter the value of D  separeted by comma: \n",
      "100,150,180\n",
      "The oupt of given sequence [18, 22, 24]\n"
     ]
    }
   ],
   "source": [
    "C = 50\n",
    "H = 30\n",
    "print('Enter the value of D  separeted by comma: ')\n",
    "num = input()\n",
    "num = num.split(',')\n",
    "result = []\n",
    "for D in num:\n",
    "    Q = round(math.sqrt(2*50*int(D)/30))\n",
    "    result.append(Q)\n",
    "    \n",
    "print('The oupt of given sequence',result)"
   ]
  },
  {
   "cell_type": "markdown",
   "id": "bf02cfae",
   "metadata": {},
   "source": [
    "Question 2:\n",
    "Write a program which takes 2 digits, X,Y as input and generates a 2-dimensional array. The\n",
    "element value in the i-th row and j-th column of the array should be i*j.\n",
    "Note: i=0,1.., X-1; j=0,1,¡Y-1.\n",
    "Example\n",
    "Suppose the following inputs are given to the program:\n",
    "3,5\n",
    "Then, the output of the program should be:\n",
    "[[0, 0, 0, 0, 0], [0, 1, 2, 3, 4], [0, 2, 4, 6, 8]]\n",
    "\n"
   ]
  },
  {
   "cell_type": "code",
   "execution_count": 9,
   "id": "c744c15a",
   "metadata": {},
   "outputs": [
    {
     "name": "stdout",
     "output_type": "stream",
     "text": [
      "Enter the values of x , y3,5\n",
      "[0, 0, 0, 0, 0]\n",
      "[0, 1, 2, 3, 4]\n",
      "[0, 2, 4, 6, 8]\n"
     ]
    }
   ],
   "source": [
    "dim = input('Enter the values of x , y')\n",
    "x,y = dim.split(',')\n",
    "r = int(x)\n",
    "c = int(y)\n",
    "output = []\n",
    "for i in range(r):\n",
    "    row = []\n",
    "    for j in range(c):\n",
    "        row.append(i*j)\n",
    "    output.append(row)\n",
    "    print(row)"
   ]
  },
  {
   "cell_type": "markdown",
   "id": "a4120a2f",
   "metadata": {},
   "source": [
    "Question 3:\n",
    "Write a program that accepts a comma separated sequence of words as input and prints the\n",
    "words in a comma-separated sequence after sorting them alphabetically.\n",
    "Suppose the following input is supplied to the program:\n",
    "without,hello,bag,world\n",
    "Then, the output should be:\n",
    "bag,hello,without,world\n",
    "\n"
   ]
  },
  {
   "cell_type": "code",
   "execution_count": 22,
   "id": "943f6622",
   "metadata": {},
   "outputs": [],
   "source": [
    "words = 'without , hello, bag,world'\n",
    "input1 = words.split(',')\n",
    "input1.sort()\n",
    "result = (',').join(input1)"
   ]
  },
  {
   "cell_type": "code",
   "execution_count": 15,
   "id": "fb842ab2",
   "metadata": {},
   "outputs": [
    {
     "data": {
      "text/plain": [
       "[' bag', ' hello', 'without ', 'world']"
      ]
     },
     "execution_count": 15,
     "metadata": {},
     "output_type": "execute_result"
    }
   ],
   "source": [
    "input1"
   ]
  },
  {
   "cell_type": "code",
   "execution_count": 18,
   "id": "46faa973",
   "metadata": {},
   "outputs": [],
   "source": [
    "output1"
   ]
  },
  {
   "cell_type": "markdown",
   "id": "5d91af49",
   "metadata": {},
   "source": [
    "Question 4:\n",
    "Write a program that accepts a sequence of whitespace separated words as input and prints\n",
    "the words after removing all duplicate words and sorting them alphanumerically.\n",
    "Suppose the following input is supplied to the program:\n",
    "hello world and practice makes perfect and hello world again\n",
    "Then, the output should be:\n",
    "again and hello makes perfect practice world\n",
    "\n"
   ]
  },
  {
   "cell_type": "code",
   "execution_count": 27,
   "id": "88e468c7",
   "metadata": {},
   "outputs": [
    {
     "name": "stdout",
     "output_type": "stream",
     "text": [
      "['again', 'and', 'hello', 'makes', 'perfect', 'practice', 'world']\n"
     ]
    }
   ],
   "source": [
    "str1 = 'hello world and practice makes perfect and hello world again'\n",
    "inpt=str1.split(' ')\n",
    "inpt.sort()\n",
    "words = []\n",
    "for i in inpt:\n",
    "    if i not in words:\n",
    "        words.append(i)\n",
    "    else:\n",
    "        continue\n",
    "print(words)"
   ]
  },
  {
   "cell_type": "markdown",
   "id": "e862b12f",
   "metadata": {},
   "source": [
    "Question 5:\n",
    "Write a program that accepts a sentence and calculate the number of letters and digits.\n",
    "Suppose the following input is supplied to the program:\n",
    "hello world! 123\n",
    "Then, the output should be:\n",
    "LETTERS 10\n",
    "\n",
    "DIGITS 3\n",
    "\n"
   ]
  },
  {
   "cell_type": "code",
   "execution_count": 28,
   "id": "ee72bf33",
   "metadata": {},
   "outputs": [
    {
     "name": "stdout",
     "output_type": "stream",
     "text": [
      "Letters : 10\n",
      "Digits :  3\n"
     ]
    }
   ],
   "source": [
    "str1 = ' hello world! 123'\n",
    "digits = 0\n",
    "letters =0\n",
    "for i in str1:\n",
    "    if i.isdigit():\n",
    "        digits = digits+1\n",
    "        \n",
    "    elif i.isalpha():\n",
    "        letters = letters+1\n",
    "print('Letters :',letters)\n",
    "print('Digits : ', digits)"
   ]
  },
  {
   "cell_type": "code",
   "execution_count": null,
   "id": "42d29af6",
   "metadata": {},
   "outputs": [],
   "source": []
  },
  {
   "cell_type": "markdown",
   "id": "c0664974",
   "metadata": {},
   "source": [
    "Question 6:\n",
    "A website requires the users to input username and password to register. Write a program to\n",
    "check the validity of password input by users.\n",
    "Following are the criteria for checking the password:\n",
    "1. At least 1 letter between [a-z]\n",
    "2. At least 1 number between [0-9]\n",
    "1. At least 1 letter between [A-Z]\n",
    "3. At least 1 character from [$#@]\n",
    "4. Minimum length of transaction password: 6\n",
    "5. Maximum length of transaction password: 12\n",
    "Your program should accept a sequence of comma separated passwords and will check them\n",
    "according to the above criteria. Passwords that match the criteria are to be printed, each\n",
    "separated by a comma.\n",
    "Example\n",
    "If the following passwords are given as input to the program:\n",
    "ABd1234@1,a F1#,2w3E*,2We3345\n",
    "Then, the output of the program should be:\n",
    "ABd1234@1"
   ]
  },
  {
   "cell_type": "code",
   "execution_count": null,
   "id": "64314d4f",
   "metadata": {},
   "outputs": [],
   "source": [
    "p = input('Enter the password  ')\n",
    "u=0\n",
    "l=0\n",
    "n=0\n",
    "s=0\n",
    "if (len(p)>=6 and len(p)<=12):\n",
    "    for i in p:\n",
    "        if (i.islower()):\n",
    "            l = l+1\n",
    "        if (i.isupper()):\n",
    "            u = u+1\n",
    "        if (i.isdigit()):\n",
    "            n = n+1\n",
    "        if (i=='@' or i=='#'or i=='$' or i =='%' or i=='&' or i=='*'):\n",
    "            s =s+1\n",
    "if (l>=1 and u>=1 and n>1 and s>=1 and l+u+n+s == len(p)):\n",
    "    \n",
    "    print('Valid password')\n",
    "else:\n",
    "    print('Invalid password')\n",
    "            "
   ]
  },
  {
   "cell_type": "code",
   "execution_count": null,
   "id": "1bdbaa57",
   "metadata": {},
   "outputs": [],
   "source": []
  }
 ],
 "metadata": {
  "kernelspec": {
   "display_name": "Python 3 (ipykernel)",
   "language": "python",
   "name": "python3"
  },
  "language_info": {
   "codemirror_mode": {
    "name": "ipython",
    "version": 3
   },
   "file_extension": ".py",
   "mimetype": "text/x-python",
   "name": "python",
   "nbconvert_exporter": "python",
   "pygments_lexer": "ipython3",
   "version": "3.9.7"
  }
 },
 "nbformat": 4,
 "nbformat_minor": 5
}
