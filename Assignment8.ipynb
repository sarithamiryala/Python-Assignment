{
 "cells": [
  {
   "cell_type": "code",
   "execution_count": 24,
   "id": "2cb95604",
   "metadata": {},
   "outputs": [],
   "source": [
    "# Program to Add two matrix\n",
    "a = ( [1,2,3],\n",
    "      [4,5,6],\n",
    "      [7,6,7] )\n",
    "\n",
    "b = ([3,4,5],\n",
    "     [1,1,1],\n",
    "     [2,2,2] )\n",
    "\n",
    "result = ([0,0,0],\n",
    "          [0,0,0],\n",
    "          [0,0,0])"
   ]
  },
  {
   "cell_type": "code",
   "execution_count": 25,
   "id": "53ed71cb",
   "metadata": {},
   "outputs": [
    {
     "name": "stdout",
     "output_type": "stream",
     "text": [
      "[4, 6, 8]\n",
      "[5, 6, 7]\n",
      "[9, 8, 9]\n"
     ]
    }
   ],
   "source": [
    "for i in range(len(a)):\n",
    "    for j in range(len(b)):\n",
    "        result[i][j] = a[i][j]+b[i][j]\n",
    "for r in result:\n",
    "    print(r)"
   ]
  },
  {
   "cell_type": "code",
   "execution_count": 28,
   "id": "92d102bb",
   "metadata": {},
   "outputs": [],
   "source": [
    "# Program to multiply two matrix\n",
    "a = ( [1,2,3],\n",
    "      [4,5,6],\n",
    "      [7,6,7] )\n",
    "\n",
    "b = ([2,2,2],\n",
    "     [2,2,2],\n",
    "     [2,2,2] )\n",
    "\n",
    "result = ([0,0,0],\n",
    "          [0,0,0],\n",
    "          [0,0,0])"
   ]
  },
  {
   "cell_type": "code",
   "execution_count": 29,
   "id": "7213ee15",
   "metadata": {},
   "outputs": [
    {
     "name": "stdout",
     "output_type": "stream",
     "text": [
      "[2, 4, 6]\n",
      "[8, 10, 12]\n",
      "[14, 12, 14]\n"
     ]
    }
   ],
   "source": [
    "for i in range(len(a)):\n",
    "    for j in range(len(b)):\n",
    "        result[i][j] = a[i][j]*b[i][j]\n",
    "for r in result:\n",
    "    print(r)"
   ]
  },
  {
   "cell_type": "code",
   "execution_count": 30,
   "id": "eaa3b5f2",
   "metadata": {},
   "outputs": [
    {
     "name": "stdout",
     "output_type": "stream",
     "text": [
      "[1, 4, 7]\n",
      "[2, 5, 6]\n",
      "[3, 6, 7]\n"
     ]
    }
   ],
   "source": [
    "#Program to find transpose of matrix\n",
    "a = ( [1,2,3],\n",
    "      [4,5,6],\n",
    "      [7,6,7] )\n",
    "for i in range(len(a)):\n",
    "    for j in range(len(b)):\n",
    "        result[j][i] = a[i][j]\n",
    "for r in result:\n",
    "    print(r)"
   ]
  },
  {
   "cell_type": "code",
   "execution_count": 37,
   "id": "437ee3b2",
   "metadata": {},
   "outputs": [
    {
     "name": "stdout",
     "output_type": "stream",
     "text": [
      "The words in sorted are :\n",
      "assignment\n",
      "eigth\n",
      "is\n",
      "my\n",
      "of\n",
      "programming\n",
      "python\n",
      "this\n"
     ]
    }
   ],
   "source": [
    "#Program to sort words in alphabetical order\n",
    "str1 = ' This is my eigth Assignment of python programming'\n",
    "words = [word.lower() for word in str1.split()]\n",
    "words.sort()\n",
    "print('The words in sorted are :')\n",
    "for word in words:\n",
    "    print(word)"
   ]
  },
  {
   "cell_type": "code",
   "execution_count": 42,
   "id": "8975fb51",
   "metadata": {},
   "outputs": [
    {
     "name": "stdout",
     "output_type": "stream",
     "text": [
      "The original string is :\n",
      "describe the feature%es of strings?\n",
      "The string after removing \n",
      "describe the featurees of strings\n"
     ]
    }
   ],
   "source": [
    "#Program to remove punctuation \n",
    "import re\n",
    "str1 = 'describe the feature%es of strings?'\n",
    "print('The original string is :\\n'+str1)\n",
    "\n",
    "res = re.sub(r'[^\\w\\s]','',str1)\n",
    "print('The string after removing \\n'+res)"
   ]
  },
  {
   "cell_type": "code",
   "execution_count": null,
   "id": "92d984eb",
   "metadata": {},
   "outputs": [],
   "source": []
  }
 ],
 "metadata": {
  "kernelspec": {
   "display_name": "Python 3 (ipykernel)",
   "language": "python",
   "name": "python3"
  },
  "language_info": {
   "codemirror_mode": {
    "name": "ipython",
    "version": 3
   },
   "file_extension": ".py",
   "mimetype": "text/x-python",
   "name": "python",
   "nbconvert_exporter": "python",
   "pygments_lexer": "ipython3",
   "version": "3.9.7"
  }
 },
 "nbformat": 4,
 "nbformat_minor": 5
}
