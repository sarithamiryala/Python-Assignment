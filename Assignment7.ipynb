{
 "cells": [
  {
   "cell_type": "code",
   "execution_count": 10,
   "id": "98dc79d1",
   "metadata": {},
   "outputs": [
    {
     "name": "stdout",
     "output_type": "stream",
     "text": [
      "sum of array elementis 121\n"
     ]
    }
   ],
   "source": [
    "#Program to find sum of array\n",
    "arr = [10,11,10,40,50]\n",
    "sum = 0\n",
    "for i in range(0,len(arr)):\n",
    "    sum = sum + arr[i]\n",
    "print('sum of array elementis',sum)\n",
    "    "
   ]
  },
  {
   "cell_type": "code",
   "execution_count": 18,
   "id": "f35f9e45",
   "metadata": {},
   "outputs": [
    {
     "name": "stdout",
     "output_type": "stream",
     "text": [
      "The largest element in the array is 1221\n"
     ]
    }
   ],
   "source": [
    "#largest element in an array\n",
    "arr1 = [12,67,89,98,1221,123,34,35,129]\n",
    "max = 0\n",
    "for i in  range(0,len(arr1)):\n",
    "    if arr1[i] > max:\n",
    "        max = arr1[i]\n",
    "print('The largest element in the array is',max)"
   ]
  },
  {
   "cell_type": "code",
   "execution_count": 30,
   "id": "b74994c4",
   "metadata": {},
   "outputs": [
    {
     "name": "stdout",
     "output_type": "stream",
     "text": [
      "Rotated list is\n",
      "[4, 5, 6, 7, 8, 1, 2, 3]\n"
     ]
    }
   ],
   "source": [
    "# Array rotation \n",
    "def rotateArray(a,d):\n",
    "    n=len(a)\n",
    "    a[:]=a[d:n]+a[0:d]\n",
    "    return a\n",
    "\n",
    "arr = [1, 2, 3, 4, 5, 6,7,8]\n",
    "\n",
    "print(\"Rotated list is\")\n",
    "print(rotateArray(arr,3)) "
   ]
  },
  {
   "cell_type": "code",
   "execution_count": 8,
   "id": "45accef3",
   "metadata": {},
   "outputs": [
    {
     "name": "stdout",
     "output_type": "stream",
     "text": [
      "Output array is [5, 6, 7, 8, 4, 1, 2]\n"
     ]
    }
   ],
   "source": [
    "#Program to Split the array and add the first part to the end\n",
    "def split(arr,k):\n",
    "    arr = arr[k:]+arr[:k]\n",
    "    return arr\n",
    "k=2\n",
    "a = [1,2,5,6,7,8,4]\n",
    "print('Output array is',split(a,k))\n",
    "\n"
   ]
  },
  {
   "cell_type": "code",
   "execution_count": 15,
   "id": "83f8bbbe",
   "metadata": {},
   "outputs": [
    {
     "name": "stdout",
     "output_type": "stream",
     "text": [
      "True\n",
      "False\n",
      "True\n"
     ]
    }
   ],
   "source": [
    "#Program to check if given array is Monotonic\n",
    "def ismonotonic(a):\n",
    "    n = len(a)\n",
    "    if ( n==1):\n",
    "        return True\n",
    "    else:\n",
    "        if all(a[i]>=a[i+1] for i in range(0,n-1)) or all(a[i]<=a[i+1] for i in range(0,n-1)):\n",
    "            return True\n",
    "        else:\n",
    "            return False\n",
    "A = [ 1,2,4,6,7,9]\n",
    "print(ismonotonic(A))\n",
    "B = [ 23,1,67,21,56]\n",
    "print(ismonotonic(B))\n",
    "c = [1]\n",
    "print(ismonotonic(c))"
   ]
  },
  {
   "cell_type": "code",
   "execution_count": null,
   "id": "fbd023ca",
   "metadata": {},
   "outputs": [],
   "source": []
  }
 ],
 "metadata": {
  "kernelspec": {
   "display_name": "Python 3 (ipykernel)",
   "language": "python",
   "name": "python3"
  },
  "language_info": {
   "codemirror_mode": {
    "name": "ipython",
    "version": 3
   },
   "file_extension": ".py",
   "mimetype": "text/x-python",
   "name": "python",
   "nbconvert_exporter": "python",
   "pygments_lexer": "ipython3",
   "version": "3.9.7"
  }
 },
 "nbformat": 4,
 "nbformat_minor": 5
}
