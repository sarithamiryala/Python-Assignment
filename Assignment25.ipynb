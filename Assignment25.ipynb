{
 "cells": [
  {
   "cell_type": "markdown",
   "id": "09209660",
   "metadata": {},
   "source": [
    "Question1\n",
    "Create a function that takes three integer arguments (a, b, c) and returns the amount of\n",
    "integers which are of equal value.\n",
    "Examples\n",
    "equal(3, 4, 3) ➞ 2\n",
    "equal(1, 1, 1) ➞ 3\n",
    "equal(3, 4, 1) ➞ 0\n",
    "Notes\n",
    "Your function must return 0, 2 or 3."
   ]
  },
  {
   "cell_type": "code",
   "execution_count": 9,
   "id": "e899fe11",
   "metadata": {},
   "outputs": [],
   "source": [
    "def equal(a,b,c):\n",
    "    le = 0\n",
    "    l =[a,b,c]\n",
    "    for i in l:\n",
    "        if i in l:\n",
    "            le = le+1\n",
    "    return le"
   ]
  },
  {
   "cell_type": "code",
   "execution_count": 10,
   "id": "9cad64b2",
   "metadata": {},
   "outputs": [
    {
     "data": {
      "text/plain": [
       "3"
      ]
     },
     "execution_count": 10,
     "metadata": {},
     "output_type": "execute_result"
    }
   ],
   "source": [
    "equal(3,4,3)"
   ]
  },
  {
   "cell_type": "markdown",
   "id": "d565976c",
   "metadata": {},
   "source": [
    "Question2\n",
    "Write a function that converts a dictionary into a list of keys-values tuples.\n",
    "Examples\n",
    "dict_to_list({\n",
    "&quot;D&quot;: 1,\n",
    "&quot;B&quot;: 2,\n",
    "&quot;C&quot;: 3\n",
    "}) ➞ [(&quot;B&quot;, 2), (&quot;C&quot;, 3), (&quot;D&quot;, 1)]\n",
    "dict_to_list({\n",
    "&quot;likes&quot;: 2,\n",
    "&quot;dislikes&quot;: 3,\n",
    "&quot;followers&quot;: 10\n",
    "}) ➞ [(&quot;dislikes&quot;, 3), (&quot;followers&quot;, 10), (&quot;likes&quot;, 2)]\n",
    "Notes\n",
    "Return the elements in the list in alphabetical order.\n",
    "\n"
   ]
  },
  {
   "cell_type": "code",
   "execution_count": 23,
   "id": "b58d9593",
   "metadata": {},
   "outputs": [],
   "source": [
    "def dict_to_list(dict1):\n",
    "    return sorted(dict1.items())"
   ]
  },
  {
   "cell_type": "code",
   "execution_count": 24,
   "id": "d96cb913",
   "metadata": {},
   "outputs": [
    {
     "data": {
      "text/plain": [
       "[('B', 2), ('C', 3), ('D', 1)]"
      ]
     },
     "execution_count": 24,
     "metadata": {},
     "output_type": "execute_result"
    }
   ],
   "source": [
    "dict_to_list({ \"D\": 1, \"B\": 2, \"C\": 3 })"
   ]
  },
  {
   "cell_type": "code",
   "execution_count": 25,
   "id": "6087e335",
   "metadata": {},
   "outputs": [
    {
     "data": {
      "text/plain": [
       "[('dislikes', 3), ('followers', 10), ('likes', 2)]"
      ]
     },
     "execution_count": 25,
     "metadata": {},
     "output_type": "execute_result"
    }
   ],
   "source": [
    "dict_to_list({ \"likes\": 2, \"dislikes\": 3, \"followers\": 10 })"
   ]
  },
  {
   "cell_type": "markdown",
   "id": "60e3eeb0",
   "metadata": {},
   "source": [
    "Question3\n",
    "Write a function that creates a dictionary with each (key, value) pair being the (lower case,\n",
    "upper case) versions of a letter, respectively.\n",
    "Examples\n",
    "mapping([&quot;p&quot;, &quot;s&quot;]) ➞ { &quot;p&quot;: &quot;P&quot;, &quot;s&quot;: &quot;S&quot; }\n",
    "\n",
    "mapping([&quot;a&quot;, &quot;b&quot;, &quot;c&quot;]) ➞ { &quot;a&quot;: &quot;A&quot;, &quot;b&quot;: &quot;B&quot;, &quot;c&quot;: &quot;C&quot; }\n",
    "mapping([&quot;a&quot;, &quot;v&quot;, &quot;y&quot;, &quot;z&quot;]) ➞ { &quot;a&quot;: &quot;A&quot;, &quot;v&quot;: &quot;V&quot;, &quot;y&quot;: &quot;Y&quot;, &quot;z&quot;: &quot;Z&quot; }\n",
    "Notes\n",
    "All of the letters in the input list will always be lowercase.\n",
    "\n"
   ]
  },
  {
   "cell_type": "code",
   "execution_count": 43,
   "id": "e6c01247",
   "metadata": {},
   "outputs": [],
   "source": [
    "def mapping(l):\n",
    "    u = []\n",
    "    for s in l:\n",
    "        u.append(s.upper())\n",
    "    dict1 = {'k1':l,'k2':u}\n",
    "    return dict(zip(dict1['k1'],dict1['k2']))"
   ]
  },
  {
   "cell_type": "code",
   "execution_count": 44,
   "id": "3179a5b9",
   "metadata": {},
   "outputs": [
    {
     "data": {
      "text/plain": [
       "{'a': 'A', 'b': 'B'}"
      ]
     },
     "execution_count": 44,
     "metadata": {},
     "output_type": "execute_result"
    }
   ],
   "source": [
    "mapping([\"a\",\"b\"])"
   ]
  },
  {
   "cell_type": "code",
   "execution_count": 45,
   "id": "7a021942",
   "metadata": {},
   "outputs": [
    {
     "data": {
      "text/plain": [
       "{'p': 'P', 's': 'S'}"
      ]
     },
     "execution_count": 45,
     "metadata": {},
     "output_type": "execute_result"
    }
   ],
   "source": [
    "mapping([\"p\", \"s\"])"
   ]
  },
  {
   "cell_type": "code",
   "execution_count": 46,
   "id": "2d6ced8c",
   "metadata": {},
   "outputs": [
    {
     "data": {
      "text/plain": [
       "{'a': 'A', 'b': 'B', 'c': 'C'}"
      ]
     },
     "execution_count": 46,
     "metadata": {},
     "output_type": "execute_result"
    }
   ],
   "source": [
    "mapping([\"a\", \"b\", \"c\"])"
   ]
  },
  {
   "cell_type": "code",
   "execution_count": 42,
   "id": "0031a950",
   "metadata": {},
   "outputs": [
    {
     "data": {
      "text/plain": [
       "{'a': 'A', 'v': 'V', 'y': 'Y', 'z': 'Z'}"
      ]
     },
     "execution_count": 42,
     "metadata": {},
     "output_type": "execute_result"
    }
   ],
   "source": [
    "mapping([\"a\", \"v\", \"y\", \"z\"]) "
   ]
  },
  {
   "cell_type": "markdown",
   "id": "d4c17b40",
   "metadata": {},
   "source": [
    "Question4\n",
    "Write a function, that replaces all vowels in a string with a specified vowel.\n",
    "Examples\n",
    "vow_replace(&quot;apples and bananas&quot;, &quot;u&quot;) ➞ &quot;upplus und bununus&quot;\n",
    "vow_replace(&quot;cheese casserole&quot;, &quot;o&quot;) ➞ &quot;chooso cossorolo&quot;\n",
    "vow_replace(&quot;stuffed jalapeno poppers&quot;, &quot;e&quot;) ➞ &quot;steffed jelepene peppers&quot;\n",
    "Notes\n",
    "All words will be lowercase. Y is not considered a vowel.\n",
    "\n"
   ]
  },
  {
   "cell_type": "code",
   "execution_count": 70,
   "id": "34df9071",
   "metadata": {},
   "outputs": [],
   "source": [
    "def vow_replace(str1,rep):\n",
    "    vowels = {'a','e','i','o','u'}\n",
    "    str2 = \" \"\n",
    "    for i in str1:\n",
    "        if i in vowels:\n",
    "            str2 = str2+ rep\n",
    "        else:\n",
    "            str2 = str2+i\n",
    "    return str2\n",
    "        "
   ]
  },
  {
   "cell_type": "code",
   "execution_count": 71,
   "id": "293a803b",
   "metadata": {},
   "outputs": [
    {
     "data": {
      "text/plain": [
       "' upplus und bununus'"
      ]
     },
     "execution_count": 71,
     "metadata": {},
     "output_type": "execute_result"
    }
   ],
   "source": [
    "vow_replace(\"apples and bananas\", \"u\")"
   ]
  },
  {
   "cell_type": "code",
   "execution_count": 72,
   "id": "ca924fe2",
   "metadata": {},
   "outputs": [
    {
     "data": {
      "text/plain": [
       "' chooso cossorolo'"
      ]
     },
     "execution_count": 72,
     "metadata": {},
     "output_type": "execute_result"
    }
   ],
   "source": [
    "vow_replace(\"cheese casserole\", \"o\") "
   ]
  },
  {
   "cell_type": "code",
   "execution_count": 73,
   "id": "7a977810",
   "metadata": {},
   "outputs": [
    {
     "data": {
      "text/plain": [
       "' steffed jelepene peppers'"
      ]
     },
     "execution_count": 73,
     "metadata": {},
     "output_type": "execute_result"
    }
   ],
   "source": [
    "vow_replace(\"stuffed jalapeno poppers\", \"e\")"
   ]
  },
  {
   "cell_type": "markdown",
   "id": "4e4afbe4",
   "metadata": {},
   "source": [
    "Question5\n",
    "Create a function that takes a string as input and capitalizes a letter if its ASCII code is even\n",
    "and returns its lower case version if its ASCII code is odd.\n",
    "Examples\n",
    "ascii_capitalize(&quot;to be or not to be!&quot;) ➞ &quot;To Be oR NoT To Be!&quot;\n",
    "ascii_capitalize(&quot;THE LITTLE MERMAID&quot;) ➞ &quot;THe LiTTLe meRmaiD&quot;\n",
    "ascii_capitalize(&quot;Oh what a beautiful morning.&quot;) ➞ &quot;oH wHaT a BeauTiFuL\n",
    "moRNiNg.&quot;"
   ]
  },
  {
   "cell_type": "code",
   "execution_count": 82,
   "id": "b4687a36",
   "metadata": {},
   "outputs": [],
   "source": [
    "def ascii_capitalize(str1):\n",
    "    str2= \" \"\n",
    "    for s in str1:\n",
    "        if ord(s)%2!=0:\n",
    "            str2= str2 + s.lower()\n",
    "        else:\n",
    "            str2 = str2 + s.upper()\n",
    "    return str2    "
   ]
  },
  {
   "cell_type": "code",
   "execution_count": 83,
   "id": "3df5d84b",
   "metadata": {},
   "outputs": [
    {
     "data": {
      "text/plain": [
       "' To Be oR NoT To Be!'"
      ]
     },
     "execution_count": 83,
     "metadata": {},
     "output_type": "execute_result"
    }
   ],
   "source": [
    "ascii_capitalize(\"to be or not to be!\") "
   ]
  },
  {
   "cell_type": "code",
   "execution_count": 84,
   "id": "b661ad20",
   "metadata": {},
   "outputs": [
    {
     "data": {
      "text/plain": [
       "' THe LiTTLe meRmaiD'"
      ]
     },
     "execution_count": 84,
     "metadata": {},
     "output_type": "execute_result"
    }
   ],
   "source": [
    "ascii_capitalize(\"THE LITTLE MERMAID\") "
   ]
  },
  {
   "cell_type": "code",
   "execution_count": 85,
   "id": "941afae1",
   "metadata": {},
   "outputs": [
    {
     "data": {
      "text/plain": [
       "' oH wHaT a BeauTiFuL moRNiNg.'"
      ]
     },
     "execution_count": 85,
     "metadata": {},
     "output_type": "execute_result"
    }
   ],
   "source": [
    "ascii_capitalize(\"Oh what a beautiful morning.\") "
   ]
  },
  {
   "cell_type": "code",
   "execution_count": null,
   "id": "ca925c49",
   "metadata": {},
   "outputs": [],
   "source": []
  }
 ],
 "metadata": {
  "kernelspec": {
   "display_name": "Python 3 (ipykernel)",
   "language": "python",
   "name": "python3"
  },
  "language_info": {
   "codemirror_mode": {
    "name": "ipython",
    "version": 3
   },
   "file_extension": ".py",
   "mimetype": "text/x-python",
   "name": "python",
   "nbconvert_exporter": "python",
   "pygments_lexer": "ipython3",
   "version": "3.9.7"
  }
 },
 "nbformat": 4,
 "nbformat_minor": 5
}
