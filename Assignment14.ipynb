{
 "cells": [
  {
   "cell_type": "markdown",
   "id": "83f7dc9c",
   "metadata": {},
   "source": [
    "Question 1:\n",
    "Define a class with a generator which can iterate the numbers, which are divisible by\n",
    "7, between a given range 0 and n."
   ]
  },
  {
   "cell_type": "code",
   "execution_count": 37,
   "id": "7bb7ad71",
   "metadata": {},
   "outputs": [],
   "source": [
    "class my_gen:\n",
    "    def __init__(self):\n",
    "        pass\n",
    "    def gen(self,n):\n",
    "        i = 0\n",
    "        while (i<n):\n",
    "            j = i\n",
    "            i = i+1\n",
    "            if j%7==0:\n",
    "                yield j "
   ]
  },
  {
   "cell_type": "code",
   "execution_count": 38,
   "id": "d8729393",
   "metadata": {},
   "outputs": [],
   "source": [
    "obj = my_gen()"
   ]
  },
  {
   "cell_type": "code",
   "execution_count": 39,
   "id": "031003eb",
   "metadata": {},
   "outputs": [
    {
     "name": "stdout",
     "output_type": "stream",
     "text": [
      "0\n",
      "7\n",
      "14\n",
      "21\n",
      "28\n",
      "35\n",
      "42\n",
      "49\n",
      "56\n",
      "63\n",
      "70\n",
      "77\n",
      "84\n",
      "91\n",
      "98\n"
     ]
    }
   ],
   "source": [
    "for i in obj.gen(100):\n",
    "    print(i)"
   ]
  },
  {
   "cell_type": "markdown",
   "id": "2ee1d94e",
   "metadata": {},
   "source": [
    "Question 2:\n",
    "Write a program to compute the frequency of the words from the input. The output\n",
    "should output after sorting the key alphanumerically.\n",
    "Suppose the following input is supplied to the program:\n",
    "New to Python or choosing between Python 2 and Python 3? Read Python 2 or\n",
    "Python 3.\n",
    "Then, the output should be:\n",
    "2:2\n",
    "3.:1\n",
    "3?:1\n",
    "New:1\n",
    "Python:5\n",
    "Read:1\n",
    "and:1\n",
    "between:1\n",
    "choosing:1\n",
    "or:2\n",
    "to:1"
   ]
  },
  {
   "cell_type": "code",
   "execution_count": 23,
   "id": "e8aae83f",
   "metadata": {},
   "outputs": [],
   "source": [
    "d = dict()"
   ]
  },
  {
   "cell_type": "code",
   "execution_count": 24,
   "id": "f2846575",
   "metadata": {},
   "outputs": [],
   "source": [
    "s = \"New to Python or choosing between Python 2 and Python 3? Read Python 2 or Python 3\"\n"
   ]
  },
  {
   "cell_type": "code",
   "execution_count": 25,
   "id": "f303ed1a",
   "metadata": {},
   "outputs": [
    {
     "name": "stdout",
     "output_type": "stream",
     "text": [
      "{'New': 1, 'to': 1, 'Python': 5, 'or': 2, 'choosing': 1, 'between': 1, '2': 2, 'and': 1, '3?': 1, 'Read': 1, '3': 1}\n"
     ]
    }
   ],
   "source": [
    "for i in s.split():\n",
    "    d[i]=d.get(i,0)+1\n",
    "print(d)"
   ]
  },
  {
   "cell_type": "code",
   "execution_count": 27,
   "id": "cc421ed0",
   "metadata": {},
   "outputs": [
    {
     "name": "stdout",
     "output_type": "stream",
     "text": [
      "[('2', 2), ('3', 1), ('3?', 1), ('New', 1), ('Python', 5), ('Read', 1), ('and', 1), ('between', 1), ('choosing', 1), ('or', 2), ('to', 1)]\n"
     ]
    }
   ],
   "source": [
    "print(sorted(d.items()))"
   ]
  },
  {
   "cell_type": "markdown",
   "id": "a9bb8bab",
   "metadata": {},
   "source": [
    "Question 3:\n",
    "\n",
    "Define a class Person and its two child classes: Male and Female. All classes have a\n",
    "method &quot;getGender&quot; which can print &quot;Male&quot; for Male class and &quot;Female&quot; for Female\n",
    "class."
   ]
  },
  {
   "cell_type": "code",
   "execution_count": 22,
   "id": "2d3e6bb6",
   "metadata": {},
   "outputs": [
    {
     "name": "stdout",
     "output_type": "stream",
     "text": [
      "Male\n",
      "Male\n"
     ]
    }
   ],
   "source": [
    "class Person(object):\n",
    "      \n",
    "    # Constructor\n",
    "    def __init__(self, gender):\n",
    "        self.gender = gender\n",
    "  \n",
    "    # To get name\n",
    "    def getGender(self):\n",
    "        return self.gender\n",
    "  \n",
    "      \n",
    "  \n",
    "# Inherited or Subclass (Note Person in bracket)\n",
    "class male(Person):\n",
    "  \n",
    "    # Here we return true\n",
    "    def getGender(self):\n",
    "        return \"Male\"\n",
    "\n",
    "class female(Person):\n",
    "  \n",
    "    # Here we return true\n",
    "    def getGender(self):\n",
    "        return \"Female\"\n",
    "  \n",
    "# Driver code\n",
    "gen = Person(\"Male\")  # An Object of Person\n",
    "print(gen.getGender())\n",
    "  \n",
    "gen1 = male('male')\n",
    "print(gen1.getGender())"
   ]
  },
  {
   "cell_type": "code",
   "execution_count": 21,
   "id": "dfca0a1a",
   "metadata": {},
   "outputs": [
    {
     "name": "stdout",
     "output_type": "stream",
     "text": [
      "Female\n"
     ]
    }
   ],
   "source": [
    "gen2 = female('female')\n",
    "print(gen2.getGender())"
   ]
  },
  {
   "cell_type": "markdown",
   "id": "e5f9c80d",
   "metadata": {},
   "source": [
    "Question 4:\n",
    "Please write a program to generate all sentences where subject is in [&quot;I&quot;, &quot;You&quot;] and\n",
    "verb is in [&quot;Play&quot;, &quot;Love&quot;] and the object is in [&quot;Hockey&quot;,&quot;Football&quot;].\n"
   ]
  },
  {
   "cell_type": "code",
   "execution_count": 19,
   "id": "8faa5f00",
   "metadata": {},
   "outputs": [],
   "source": [
    "s = [\"I\",\"You\"]\n",
    "v = [\"play\",\"Love\"]\n",
    "o = [ \"Hockey\",\"Football\"]\n",
    "sentence = \" \"\n",
    "for i in range(0,2):\n",
    "    for j in range(0,2):\n",
    "        sentence = sentence+s[i]+' '+v[i]+' ' +o[i]+'\\n'\n",
    "    sentence = sentence+s[j]+' '+v[j]+' ' +o[j]+'\\n'\n",
    "\n"
   ]
  },
  {
   "cell_type": "code",
   "execution_count": 20,
   "id": "b990c0f2",
   "metadata": {},
   "outputs": [
    {
     "name": "stdout",
     "output_type": "stream",
     "text": [
      " I play Hockey\n",
      "I play Hockey\n",
      "You Love Football\n",
      "You Love Football\n",
      "You Love Football\n",
      "You Love Football\n",
      "\n"
     ]
    }
   ],
   "source": [
    "print(sentence)"
   ]
  },
  {
   "cell_type": "code",
   "execution_count": 6,
   "id": "3382bd1f",
   "metadata": {},
   "outputs": [
    {
     "name": "stdout",
     "output_type": "stream",
     "text": [
      "0 0\n",
      "0 1\n",
      "1 0\n",
      "1 1\n"
     ]
    }
   ],
   "source": [
    "for i in range(0,2):\n",
    "    for j in range(0,2):\n",
    "        print(i,j)"
   ]
  },
  {
   "cell_type": "markdown",
   "id": "0ded4256",
   "metadata": {},
   "source": [
    "Question 5:\n",
    "Please write a program to compress and decompress the string &quot;hello world!hello\n",
    "world!hello world!hello world!&quot;.\n"
   ]
  },
  {
   "cell_type": "code",
   "execution_count": 10,
   "id": "9bab2a91",
   "metadata": {},
   "outputs": [],
   "source": [
    "s= 'hello world!hello world!hello world!hello world!'"
   ]
  },
  {
   "cell_type": "code",
   "execution_count": 13,
   "id": "00abf449",
   "metadata": {},
   "outputs": [],
   "source": [
    "y= bytes(s, 'utf-8')"
   ]
  },
  {
   "cell_type": "code",
   "execution_count": 14,
   "id": "db64a0ff",
   "metadata": {},
   "outputs": [],
   "source": [
    "x = zlib.compress(y)"
   ]
  },
  {
   "cell_type": "code",
   "execution_count": 15,
   "id": "026ea2cf",
   "metadata": {},
   "outputs": [
    {
     "name": "stdout",
     "output_type": "stream",
     "text": [
      "b'x\\x9c\\xcbH\\xcd\\xc9\\xc9W(\\xcf/\\xcaIQ\\xcc \\x82\\r\\x00\\xbd[\\x11\\xf5'\n"
     ]
    }
   ],
   "source": [
    "print(x)"
   ]
  },
  {
   "cell_type": "code",
   "execution_count": 16,
   "id": "d8daa479",
   "metadata": {},
   "outputs": [
    {
     "name": "stdout",
     "output_type": "stream",
     "text": [
      "b'hello world!hello world!hello world!hello world!'\n"
     ]
    }
   ],
   "source": [
    "print(zlib.decompress(x))"
   ]
  },
  {
   "cell_type": "markdown",
   "id": "336f352c",
   "metadata": {},
   "source": [
    "Question 6:\n",
    "Please write a binary search function which searches an item in a sorted list. The\n",
    "function should return the index of element to be searched in the list."
   ]
  },
  {
   "cell_type": "code",
   "execution_count": 17,
   "id": "28b2e592",
   "metadata": {},
   "outputs": [],
   "source": [
    "import math"
   ]
  },
  {
   "cell_type": "code",
   "execution_count": 18,
   "id": "4a7f4478",
   "metadata": {},
   "outputs": [],
   "source": [
    "def bin_search(lst, element):\n",
    "    bottom = 0\n",
    "    top = len(lst)-1\n",
    "    index = -1\n",
    "    while top>=bottom and index == -1:\n",
    "        mid = int(math.floor((top+bottom)/2.0))\n",
    "        if lst[mid]==element:\n",
    "            index=mid\n",
    "        elif lst[mid]>element:\n",
    "            top = mid-1\n",
    "        else:\n",
    "            bottom = mid+1\n",
    "    return index"
   ]
  },
  {
   "cell_type": "code",
   "execution_count": 19,
   "id": "5c0e49f4",
   "metadata": {},
   "outputs": [],
   "source": [
    "lst = [1,4,5,7,87,112,256]"
   ]
  },
  {
   "cell_type": "code",
   "execution_count": 21,
   "id": "b5523886",
   "metadata": {},
   "outputs": [
    {
     "data": {
      "text/plain": [
       "3"
      ]
     },
     "execution_count": 21,
     "metadata": {},
     "output_type": "execute_result"
    }
   ],
   "source": [
    "bin_search(lst,7)"
   ]
  },
  {
   "cell_type": "code",
   "execution_count": 22,
   "id": "dd70b165",
   "metadata": {},
   "outputs": [
    {
     "data": {
      "text/plain": [
       "5"
      ]
     },
     "execution_count": 22,
     "metadata": {},
     "output_type": "execute_result"
    }
   ],
   "source": [
    "bin_search(lst,112)"
   ]
  },
  {
   "cell_type": "code",
   "execution_count": null,
   "id": "55174bc5",
   "metadata": {},
   "outputs": [],
   "source": []
  }
 ],
 "metadata": {
  "kernelspec": {
   "display_name": "Python 3 (ipykernel)",
   "language": "python",
   "name": "python3"
  },
  "language_info": {
   "codemirror_mode": {
    "name": "ipython",
    "version": 3
   },
   "file_extension": ".py",
   "mimetype": "text/x-python",
   "name": "python",
   "nbconvert_exporter": "python",
   "pygments_lexer": "ipython3",
   "version": "3.9.7"
  }
 },
 "nbformat": 4,
 "nbformat_minor": 5
}
