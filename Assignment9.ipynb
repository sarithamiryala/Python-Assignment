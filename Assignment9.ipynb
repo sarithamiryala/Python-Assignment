{
 "cells": [
  {
   "cell_type": "code",
   "execution_count": 22,
   "id": "1d966a23",
   "metadata": {},
   "outputs": [
    {
     "name": "stdout",
     "output_type": "stream",
     "text": [
      "Enter any number :89\n",
      " given number is disarium number\n",
      "89\n",
      "89\n"
     ]
    }
   ],
   "source": [
    "#Q1. Program check the given number is Disarium number or not\n",
    "n = int(input('Enter any number :'))\n",
    "l= len(str(n))\n",
    "sum = 0\n",
    "temp = n\n",
    "while (temp>0):\n",
    "    d = temp%10\n",
    "    sum= sum +(d**l)\n",
    "    l = l-1\n",
    "    temp = temp//10\n",
    "if ( n ==sum):\n",
    "    print(' given number is disarium number')\n",
    "else:\n",
    "    print('given number is not disarium number')\n",
    "print(n)\n",
    "print(sum)"
   ]
  },
  {
   "cell_type": "code",
   "execution_count": 25,
   "id": "bbd944b5",
   "metadata": {},
   "outputs": [
    {
     "name": "stdout",
     "output_type": "stream",
     "text": [
      "1\n",
      "2\n",
      "3\n",
      "4\n",
      "5\n",
      "6\n",
      "7\n",
      "8\n",
      "9\n",
      "89\n"
     ]
    }
   ],
   "source": [
    "#Q2. Program to print Disarium number between 1 to 100\n",
    "for i in range(1,101):\n",
    "    n = i\n",
    "    l= len(str(n))\n",
    "    sum = 0\n",
    "    temp = n\n",
    "    while (temp>0):\n",
    "          d = temp%10\n",
    "          sum= sum +(d**l)\n",
    "          l = l-1\n",
    "          temp = temp//10\n",
    "    if ( n ==sum):\n",
    "        print(n)\n",
    "    \n",
    "    \n",
    "\n",
    "    "
   ]
  },
  {
   "cell_type": "code",
   "execution_count": 41,
   "id": "667c54c1",
   "metadata": {},
   "outputs": [
    {
     "name": "stdout",
     "output_type": "stream",
     "text": [
      "Enter any number7\n",
      "7  is a happy number\n"
     ]
    }
   ],
   "source": [
    "#Q3. Write a Python program to check if the given number is Happy Number?\n",
    "\n",
    "def happy_number(num):\n",
    "    rem = sum1 =0\n",
    "    while(num > 0):\n",
    "        rem = num%10\n",
    "        sum1 = sum1+(rem*rem)\n",
    "        num = num//10\n",
    "    return sum1\n",
    "\n",
    "num = int(input('Enter any number'))\n",
    "res = num\n",
    "while(res!=1 and res!=4):\n",
    "    res =happy_number(res);\n",
    "\n",
    "if(res==1):\n",
    "    print(str(num)+'  is a happy number')\n",
    "else:\n",
    "    print(str(num)+' is not a happy number')"
   ]
  },
  {
   "cell_type": "code",
   "execution_count": 43,
   "id": "9dc9d5e3",
   "metadata": {},
   "outputs": [
    {
     "name": "stdout",
     "output_type": "stream",
     "text": [
      "7\n",
      "10\n",
      "13\n",
      "19\n",
      "23\n",
      "28\n",
      "31\n",
      "32\n",
      "44\n",
      "49\n",
      "68\n",
      "70\n",
      "79\n",
      "82\n",
      "86\n",
      "91\n",
      "94\n",
      "97\n",
      "100\n"
     ]
    }
   ],
   "source": [
    "#Q4. Write a Python program to print all happy numbers between 1 and 100?\n",
    "def happy_number(n):\n",
    "    rem = sum1 =0\n",
    "    while(n > 0):\n",
    "        rem = n%10\n",
    "        sum1 = sum1+(rem*rem)\n",
    "        n = n//10\n",
    "    return sum1\n",
    "\n",
    "for i in range(1,101):\n",
    "    res = i\n",
    "    while(res!=1 and res!=4):\n",
    "        res =happy_number(res);\n",
    "        if(res==1):\n",
    "            print(i)\n"
   ]
  },
  {
   "cell_type": "code",
   "execution_count": 46,
   "id": "891a4ff9",
   "metadata": {},
   "outputs": [
    {
     "name": "stdout",
     "output_type": "stream",
     "text": [
      "Enter any number125\n",
      "Sum of the digits is 8\n",
      "The given number 125 is not Harshad Number\n"
     ]
    }
   ],
   "source": [
    "#Q5. Write a Python program to determine whether the given number is a Harshad Number?\n",
    "n = int(input('Enter any number'))\n",
    "sum =0\n",
    "rem =0\n",
    "temp =n\n",
    "while(temp>0):\n",
    "    rem =temp%10\n",
    "    sum = sum+rem\n",
    "    temp = temp//10\n",
    "print('Sum of the digits is', sum)\n",
    "if n%sum == 0:\n",
    "    print('The given number',n,' is Harshad Number')\n",
    "else:\n",
    "    print('The given number',n,'is not Harshad Number')"
   ]
  },
  {
   "cell_type": "code",
   "execution_count": 56,
   "id": "f0fce363",
   "metadata": {},
   "outputs": [
    {
     "name": "stdout",
     "output_type": "stream",
     "text": [
      "Enter any number11\n",
      "Entered Number is Not Pronic Number\n"
     ]
    }
   ],
   "source": [
    "#Q6Write a Python program to print all pronic numbers between 1 and 100?\n",
    "flag = False\n",
    "n = int(input('Enter any number'))\n",
    "for i in range(n):\n",
    "    if (i*(i+1)==n):\n",
    "        flag = True\n",
    "        break\n",
    "\n",
    "if flag ==False:\n",
    "    print('Entered Number is Not Pronic Number')\n",
    "else:\n",
    "    print('Entered Number is a Pronic Number')"
   ]
  },
  {
   "cell_type": "code",
   "execution_count": null,
   "id": "4ecdef8d",
   "metadata": {},
   "outputs": [],
   "source": []
  },
  {
   "cell_type": "code",
   "execution_count": null,
   "id": "3fbc36b3",
   "metadata": {},
   "outputs": [],
   "source": []
  }
 ],
 "metadata": {
  "kernelspec": {
   "display_name": "Python 3 (ipykernel)",
   "language": "python",
   "name": "python3"
  },
  "language_info": {
   "codemirror_mode": {
    "name": "ipython",
    "version": 3
   },
   "file_extension": ".py",
   "mimetype": "text/x-python",
   "name": "python",
   "nbconvert_exporter": "python",
   "pygments_lexer": "ipython3",
   "version": "3.9.7"
  }
 },
 "nbformat": 4,
 "nbformat_minor": 5
}
