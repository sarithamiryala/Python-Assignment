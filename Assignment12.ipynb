{
 "cells": [
  {
   "cell_type": "markdown",
   "id": "86666789",
   "metadata": {},
   "source": [
    "#Q1. Write a Python program to Extract Unique values dictionary values?\n"
   ]
  },
  {
   "cell_type": "code",
   "execution_count": 9,
   "id": "753d653d",
   "metadata": {},
   "outputs": [],
   "source": [
    "from itertools import chain"
   ]
  },
  {
   "cell_type": "code",
   "execution_count": 10,
   "id": "e38b839d",
   "metadata": {},
   "outputs": [
    {
     "name": "stdout",
     "output_type": "stream",
     "text": [
      "The original dictionary is {'a': [1, 2, 3, 5], 'b': [2, 5, 6, 9], 'c': [10, 1, 3, 6], 'd': [11, 5, 7, 18]}\n",
      "[1, 2, 3, 5, 6, 7, 9, 10, 11, 18]\n"
     ]
    }
   ],
   "source": [
    "dict1 = { 'a' : [1,2,3,5],\n",
    "       'b': [2,5,6,9],\n",
    "       'c': [10,1,3,6],\n",
    "       'd': [11,5,7,18]}\n",
    "print('The original dictionary is', str(dict1))\n",
    "res = list(sorted(set(chain(*dict1.values()))))\n",
    "print(res)"
   ]
  },
  {
   "cell_type": "markdown",
   "id": "8f4e98d6",
   "metadata": {},
   "source": [
    "#Q2. Write a Python program to find the sum of all items in a dictionary?\n"
   ]
  },
  {
   "cell_type": "code",
   "execution_count": 16,
   "id": "9c84e7ce",
   "metadata": {},
   "outputs": [
    {
     "name": "stdout",
     "output_type": "stream",
     "text": [
      "850\n"
     ]
    }
   ],
   "source": [
    "dict1 = {'a':100,\n",
    "        'b': 200,\n",
    "        'c':50,\n",
    "        'd':500}\n",
    "sum =0\n",
    "for i in dict1.values():\n",
    "    sum = sum+i\n",
    "print(sum)\n",
    "    "
   ]
  },
  {
   "cell_type": "markdown",
   "id": "d4c5d47d",
   "metadata": {},
   "source": [
    "#Q3. Write a Python program to Merging two Dictionaries?\n"
   ]
  },
  {
   "cell_type": "code",
   "execution_count": 23,
   "id": "9550c7db",
   "metadata": {},
   "outputs": [
    {
     "name": "stdout",
     "output_type": "stream",
     "text": [
      "{'a': 100, 'b': 20, 'c': 30, 'd': 40, 'e': 50, 'f': 60}\n"
     ]
    }
   ],
   "source": [
    "dict1 = { 'a':100, 'b': 20,'c': 30}\n",
    "dict2 = {'d': 40,'e': 50,'f': 60}\n",
    "dict1.update(dict2)\n",
    "print(dict1)"
   ]
  },
  {
   "cell_type": "code",
   "execution_count": null,
   "id": "527aa1db",
   "metadata": {},
   "outputs": [],
   "source": [
    "#Q4. Write a Python program to convert key-values list to flat dictionary?\n"
   ]
  },
  {
   "cell_type": "code",
   "execution_count": 31,
   "id": "10aa0f6b",
   "metadata": {},
   "outputs": [],
   "source": [
    "from itertools import product"
   ]
  },
  {
   "cell_type": "code",
   "execution_count": 3,
   "id": "5e476fe6",
   "metadata": {},
   "outputs": [
    {
     "name": "stdout",
     "output_type": "stream",
     "text": [
      "The dictionary is    {'alpha': ['a', 'b', 'c', 'd'], 'number': [1, 2, 3, 4]}\n",
      "{'a': 1, 'b': 2, 'c': 3, 'd': 4}\n"
     ]
    }
   ],
   "source": [
    "dict1 = {'alpha':['a','b','c','d'], 'number': [ 1,2,3,4]}\n",
    "print('The dictionary is   ', dict1)\n",
    "res = dict(zip(dict1[\"alpha\"],dict1['number']))\n",
    "print(res)"
   ]
  },
  {
   "cell_type": "code",
   "execution_count": 1,
   "id": "810af0dd",
   "metadata": {},
   "outputs": [
    {
     "name": "stdout",
     "output_type": "stream",
     "text": [
      "The dictionary is  {'Roll_No': [1, 2, 3, 4, 5, 6, 7, 8, 9, 10, 11, 12], 'Student_name': ['Abhi', 'Arya', 'Balu', 'Bunny', 'Chetan', 'Durga', 'Devi', 'Elon', 'Gowri', 'sammu', 'sari', 'shailesh']}\n",
      "The flattened dictionary \n",
      "  {1: 'Abhi', 2: 'Arya', 3: 'Balu', 4: 'Bunny', 5: 'Chetan', 6: 'Durga', 7: 'Devi', 8: 'Elon', 9: 'Gowri', 10: 'sammu', 11: 'sari', 12: 'shailesh'}\n"
     ]
    }
   ],
   "source": [
    "dict2 = {'Roll_No':[1,2,3,4,5,6,7,8,9,10,11,12],'Student_name': ['Abhi','Arya','Balu','Bunny','Chetan','Durga','Devi','Elon','Gowri','sammu','sari','shailesh']}\n",
    "print('The dictionary is ', dict2)\n",
    "result_dict2 = dict(zip(dict2['Roll_No'],dict2['Student_name']))\n",
    "print('The flattened dictionary \\n ',  result_dict2)"
   ]
  },
  {
   "cell_type": "code",
   "execution_count": null,
   "id": "5cb610b4",
   "metadata": {},
   "outputs": [],
   "source": [
    "#Q5. Write a Python program to insertion at the beginning in OrderedDict?\n"
   ]
  },
  {
   "cell_type": "code",
   "execution_count": 1,
   "id": "d803d022",
   "metadata": {},
   "outputs": [],
   "source": [
    "from collections import OrderedDict"
   ]
  },
  {
   "cell_type": "code",
   "execution_count": 6,
   "id": "fc33e469",
   "metadata": {},
   "outputs": [
    {
     "name": "stdout",
     "output_type": "stream",
     "text": [
      "The Original OrderedDict:\n",
      "OrderedDict([('color1', 'red'), ('color2', 'green')])\n",
      "Insert an element at the beginning of the said OrderedDict:\n",
      "OrderedDict([('color3', 'orange'), ('color1', 'red'), ('color2', 'green')])\n"
     ]
    }
   ],
   "source": [
    "dict3 = OrderedDict([('color1','red'),('color2','green')])\n",
    "insert_element = {'color3':'orange'}\n",
    "print('The Original OrderedDict:')\n",
    "print(dict3)\n",
    "print(\"Insert an element at the beginning of the said OrderedDict:\")\n",
    "dict3.update(insert_element)\n",
    "dict3.move_to_end('color3',last =False)\n",
    "print(dict3)"
   ]
  },
  {
   "cell_type": "code",
   "execution_count": null,
   "id": "f9bba91a",
   "metadata": {},
   "outputs": [],
   "source": [
    "#Q6. Write a Python program to check order of character in string using OrderedDict()?\n"
   ]
  },
  {
   "cell_type": "code",
   "execution_count": 5,
   "id": "21bb53cc",
   "metadata": {},
   "outputs": [],
   "source": [
    "from collections import OrderedDict\n",
    "def check_order(input1,pattern):\n",
    "    dict1 = OrderedDict.fromkeys(input1)\n",
    "    pattern_length = 0\n",
    "    for key,value in dict1.items():\n",
    "        if(key==pattern[pattern_length]):\n",
    "            pattern_length = pattern_length+1\n",
    "        if (pattern_length==(len(pattern))):\n",
    "            return 'The order of the pattern is correct'\n",
    "    \n",
    "    return 'The order of the pattern is not correct'\n",
    "    \n"
   ]
  },
  {
   "cell_type": "code",
   "execution_count": 6,
   "id": "fa1f2866",
   "metadata": {},
   "outputs": [
    {
     "data": {
      "text/plain": [
       "'The order of the pattern is correct'"
      ]
     },
     "execution_count": 6,
     "metadata": {},
     "output_type": "execute_result"
    }
   ],
   "source": [
    "check_order(\"all is well\",\"ae\")"
   ]
  },
  {
   "cell_type": "code",
   "execution_count": null,
   "id": "0d4ce3e3",
   "metadata": {},
   "outputs": [],
   "source": [
    "#Q7. Write a Python program to sort Python Dictionaries by Key or Value?"
   ]
  },
  {
   "cell_type": "code",
   "execution_count": 4,
   "id": "6b03ec5e",
   "metadata": {},
   "outputs": [
    {
     "name": "stdout",
     "output_type": "stream",
     "text": [
      "[1, 2, 3, 4, 5, 6]\n"
     ]
    }
   ],
   "source": [
    "dict1 = { 'a':1, 'c': 3,'e':5,'b':2,'d':4,'f':6}\n",
    "print(sorted(dict1.values()))"
   ]
  },
  {
   "cell_type": "code",
   "execution_count": 5,
   "id": "4401cd19",
   "metadata": {},
   "outputs": [
    {
     "name": "stdout",
     "output_type": "stream",
     "text": [
      "['a', 'b', 'c', 'd', 'e', 'f']\n"
     ]
    }
   ],
   "source": [
    "print(sorted(dict1.keys()))"
   ]
  },
  {
   "cell_type": "code",
   "execution_count": null,
   "id": "6bcfe721",
   "metadata": {},
   "outputs": [],
   "source": []
  }
 ],
 "metadata": {
  "kernelspec": {
   "display_name": "Python 3 (ipykernel)",
   "language": "python",
   "name": "python3"
  },
  "language_info": {
   "codemirror_mode": {
    "name": "ipython",
    "version": 3
   },
   "file_extension": ".py",
   "mimetype": "text/x-python",
   "name": "python",
   "nbconvert_exporter": "python",
   "pygments_lexer": "ipython3",
   "version": "3.9.7"
  }
 },
 "nbformat": 4,
 "nbformat_minor": 5
}
