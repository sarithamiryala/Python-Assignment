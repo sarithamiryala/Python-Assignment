{
 "cells": [
  {
   "cell_type": "code",
   "execution_count": 12,
   "id": "70b2781b",
   "metadata": {},
   "outputs": [
    {
     "name": "stdout",
     "output_type": "stream",
     "text": [
      "Sum of the elements in the list is: 381\n"
     ]
    }
   ],
   "source": [
    "# Q1. Write a Python program to find sum of elements in list?\n",
    "l = [35,56,70,10,100,110]\n",
    "sum = 0\n",
    "for i in range(len(l)):\n",
    "    sum =sum+l[i]\n",
    "    \n",
    "print('Sum of the elements in the list is:',sum)"
   ]
  },
  {
   "cell_type": "code",
   "execution_count": 28,
   "id": "3b4a6558",
   "metadata": {},
   "outputs": [
    {
     "name": "stdout",
     "output_type": "stream",
     "text": [
      "Multiplication  of the elements in the list is: -41580\n"
     ]
    }
   ],
   "source": [
    "#Q2. Write a Python program to Multiply all numbers in the list?\n",
    "l = [3,6,7,10,1,11, -3]\n",
    "mul = 1\n",
    "for i in range(len(l)):\n",
    "    mul =mul*l[i]\n",
    "    \n",
    "print('Multiplication  of the elements in the list is:', mul)"
   ]
  },
  {
   "cell_type": "code",
   "execution_count": 27,
   "id": "12db656f",
   "metadata": {},
   "outputs": [
    {
     "name": "stdout",
     "output_type": "stream",
     "text": [
      "The smallest number in the given list is: -11\n"
     ]
    }
   ],
   "source": [
    "#Q3. Write a Python program to find smallest number in a list?\n",
    "l = [12,34,99,67,73,12,5,-11]\n",
    "smaller = l[0]\n",
    "for i in range(len(l)):\n",
    "    if l[i] < smaller:\n",
    "        smaller = l[i]\n",
    "print('The smallest number in the given list is:',smaller)"
   ]
  },
  {
   "cell_type": "code",
   "execution_count": 29,
   "id": "ea117237",
   "metadata": {},
   "outputs": [
    {
     "name": "stdout",
     "output_type": "stream",
     "text": [
      "The largest number in the given list is: 99\n"
     ]
    }
   ],
   "source": [
    "#Q4. Write a Python program to find largest number in a list?\n",
    "l = [12,34,99,67,73,12,5,-11]\n",
    "larger = l[0]\n",
    "for i in range(len(l)):\n",
    "    if l[i] > larger:\n",
    "        larger = l[i]\n",
    "print('The largest number in the given list is:',larger)"
   ]
  },
  {
   "cell_type": "code",
   "execution_count": 46,
   "id": "427c83cd",
   "metadata": {},
   "outputs": [
    {
     "name": "stdout",
     "output_type": "stream",
     "text": [
      "Given list is: [5, 12, 12, 34, 67, 73, 99, 100]\n",
      "The second largest number in a list is 99\n"
     ]
    }
   ],
   "source": [
    "#Q5. Write a Python program to find second largest number in a list?\n",
    "l = [12,34,99,67,73,12,5,100]\n",
    "\n",
    "for i in range(len(l)-1):\n",
    "    l.sort()\n",
    "l1 = l[::-1]\n",
    "print('The second largest number in a list is', l1[1])"
   ]
  },
  {
   "cell_type": "code",
   "execution_count": 1,
   "id": "2eb33461",
   "metadata": {},
   "outputs": [
    {
     "name": "stdout",
     "output_type": "stream",
     "text": [
      "Enter the value of N \n",
      "3\n",
      "The 3 largest number in a list are\n",
      "100\n",
      "99\n",
      "73\n"
     ]
    }
   ],
   "source": [
    "#Q6. Write a Python program to find N largest elements from a list?\n",
    "l = [12,34,99,67,73,12,5,100]\n",
    "L = len(l)\n",
    "print('Enter the value of N ')\n",
    "\n",
    "N = int(input())\n",
    "\n",
    "\n",
    "for i in range(len(l)-1):\n",
    "    l.sort()\n",
    "l1 = l[::-1]\n",
    "print('The', N ,'largest number in a list are')\n",
    "for i in range(N):\n",
    "    print(l1[i])"
   ]
  },
  {
   "cell_type": "code",
   "execution_count": 22,
   "id": "7320bfb3",
   "metadata": {},
   "outputs": [
    {
     "name": "stdout",
     "output_type": "stream",
     "text": [
      "[2, 4, 6, 8, 10, 12, 14]\n"
     ]
    }
   ],
   "source": [
    "#Q7. Write a Python program to print even numbers in a list?\n",
    "l = [1,2,3,4,5,6,7,8,9,10,11,12,13,14,15]\n",
    "e =[]\n",
    "for i in range(len(l)):\n",
    "    if l[i]% 2 == 0:\n",
    "        e.append(l[i])\n",
    "print(e)"
   ]
  },
  {
   "cell_type": "code",
   "execution_count": 26,
   "id": "537157ca",
   "metadata": {},
   "outputs": [
    {
     "name": "stdout",
     "output_type": "stream",
     "text": [
      "[1, 3, 5, 7, 9, 11, 13, 15]\n"
     ]
    }
   ],
   "source": [
    "#Q8. Write a Python program to print odd numbers in a List?\n",
    "l = [1,2,3,4,5,6,7,8,9,10,11,12,13,14,15]\n",
    "o =[]\n",
    "for i in range(len(l)):\n",
    "    if l[i]% 2 == 1:\n",
    "        o.append(l[i])\n",
    "print(o)"
   ]
  },
  {
   "cell_type": "code",
   "execution_count": 58,
   "id": "1f6a4d8e",
   "metadata": {},
   "outputs": [
    {
     "name": "stdout",
     "output_type": "stream",
     "text": [
      "[1, 2, 3, [4, 5, 6], 12]\n"
     ]
    }
   ],
   "source": [
    "#Q9. Write a Python program to Remove empty List from List?\n",
    "list2 = [1,2,3,[4,5,6],[],12,]\n",
    "list2.remove([])\n",
    "print(list2)"
   ]
  },
  {
   "cell_type": "code",
   "execution_count": 55,
   "id": "00d59eef",
   "metadata": {},
   "outputs": [
    {
     "data": {
      "text/plain": [
       "[5, 6, 7, 8, [1, 2, 3, 4, 5, 6, 7, 8], 23]"
      ]
     },
     "execution_count": 55,
     "metadata": {},
     "output_type": "execute_result"
    }
   ],
   "source": [
    "#Q10. Write a Python program to Cloning or Copying a list?\n",
    "list1 = [1,2,3,4,5,6,7,8]\n",
    "list2 = [5,6,7,8,list1.copy(),23]\n",
    "list2"
   ]
  },
  {
   "cell_type": "code",
   "execution_count": 50,
   "id": "12316a7c",
   "metadata": {},
   "outputs": [
    {
     "name": "stdout",
     "output_type": "stream",
     "text": [
      "occurrences of 1 in list is : 5\n"
     ]
    }
   ],
   "source": [
    "#Q11. Write a Python program to Count occurrences of an element in a list?\n",
    "lis = [1,2,0,1,3,5,7,8,1,6,1,1,2,3,4,11]\n",
    "print('occurrences of 1 in list is :', lis.count(1))"
   ]
  },
  {
   "cell_type": "code",
   "execution_count": null,
   "id": "674526fe",
   "metadata": {},
   "outputs": [],
   "source": []
  }
 ],
 "metadata": {
  "kernelspec": {
   "display_name": "Python 3 (ipykernel)",
   "language": "python",
   "name": "python3"
  },
  "language_info": {
   "codemirror_mode": {
    "name": "ipython",
    "version": 3
   },
   "file_extension": ".py",
   "mimetype": "text/x-python",
   "name": "python",
   "nbconvert_exporter": "python",
   "pygments_lexer": "ipython3",
   "version": "3.9.7"
  }
 },
 "nbformat": 4,
 "nbformat_minor": 5
}
